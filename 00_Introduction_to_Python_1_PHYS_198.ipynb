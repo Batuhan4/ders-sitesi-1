{
  "nbformat": 4,
  "nbformat_minor": 0,
  "metadata": {
    "anaconda-cloud": {},
    "colab": {
      "provenance": [],
      "include_colab_link": true
    },
    "kernelspec": {
      "display_name": "Python [conda env:anaconda2]",
      "language": "python",
      "name": "conda-env-anaconda2-py"
    },
    "language_info": {
      "codemirror_mode": {
        "name": "ipython",
        "version": 2
      },
      "file_extension": ".py",
      "mimetype": "text/x-python",
      "name": "python",
      "nbconvert_exporter": "python",
      "pygments_lexer": "ipython2",
      "version": "2.7.6"
    }
  },
  "cells": [
    {
      "cell_type": "markdown",
      "metadata": {
        "id": "view-in-github",
        "colab_type": "text"
      },
      "source": [
        "<a href=\"https://colab.research.google.com/github/Batuhan4/ders-sitesi-frontpage/blob/main/00_Introduction_to_Python_1_PHYS_198.ipynb\" target=\"_parent\"><img src=\"https://colab.research.google.com/assets/colab-badge.svg\" alt=\"Open In Colab\"/></a>"
      ]
    },
    {
      "cell_type": "markdown",
      "metadata": {
        "id": "XNcXgK2CN37D"
      },
      "source": [
        "# Crash course in Python basics"
      ]
    },
    {
      "cell_type": "markdown",
      "metadata": {
        "id": "YI_RyVVdN37I"
      },
      "source": [
        "## Execute these cells but otherwise ignore this section for now"
      ]
    },
    {
      "cell_type": "code",
      "metadata": {
        "id": "c-uFEI7UN37M"
      },
      "source": [
        "from __future__ import print_function\n",
        "from __future__ import division"
      ],
      "execution_count": null,
      "outputs": []
    },
    {
      "cell_type": "markdown",
      "metadata": {
        "id": "uvOmTgLdN37V"
      },
      "source": [
        "# Interacting with Python in Jupyter and Colab"
      ]
    },
    {
      "cell_type": "code",
      "metadata": {
        "id": "CWHJ-izFN37W",
        "colab": {
          "base_uri": "https://localhost:8080/"
        },
        "outputId": "b40dfff0-3446-42f3-81e5-47c96706ed7b"
      },
      "source": [
        "print(9328475892)"
      ],
      "execution_count": null,
      "outputs": [
        {
          "output_type": "stream",
          "name": "stdout",
          "text": [
            "9328475892\n"
          ]
        }
      ]
    },
    {
      "cell_type": "markdown",
      "metadata": {
        "id": "c94oYcCwN37c"
      },
      "source": [
        "Comment on the parentheses:\n",
        "- `print` is the command, and within the parentheses we specify what is to be printed\n",
        "- this is a general theme, there are commands (functions), and they have arguments, which are specified in parentheses"
      ]
    },
    {
      "cell_type": "markdown",
      "metadata": {
        "id": "GH7Np-5VN37c"
      },
      "source": [
        "Cell execution in Jupyter/Colab: You can edit cells and re-execute. Try it: edit the cell below to change the numbers in the parentheses, and re-execute.\n",
        "\n",
        "Note: Jupyter and Colab are not the same thing, but we will treat the terms interchangably for the time being"
      ]
    },
    {
      "cell_type": "code",
      "metadata": {
        "id": "4ptsBgS0N37d",
        "colab": {
          "base_uri": "https://localhost:8080/"
        },
        "outputId": "44b56c59-9b0d-4c82-d75a-56ad141367ea"
      },
      "source": [
        "print(2   +3)"
      ],
      "execution_count": null,
      "outputs": [
        {
          "output_type": "stream",
          "name": "stdout",
          "text": [
            "5\n"
          ]
        }
      ]
    },
    {
      "cell_type": "markdown",
      "metadata": {
        "id": "7GjUXZgqN37f"
      },
      "source": [
        "Note that we can already do math! We are adding numbers. We can also do:\n",
        "\n",
        "- Subtraction: `-`\n",
        "- Multiplication: `*`\n",
        "- Division: `/`"
      ]
    },
    {
      "cell_type": "code",
      "metadata": {
        "id": "ITvT2r_xt6Ah",
        "colab": {
          "base_uri": "https://localhost:8080/"
        },
        "outputId": "fe070e3a-c209-4199-8e95-1714f7c147bc"
      },
      "source": [
        "print(2-7)"
      ],
      "execution_count": null,
      "outputs": [
        {
          "output_type": "stream",
          "name": "stdout",
          "text": [
            "-5\n"
          ]
        }
      ]
    },
    {
      "cell_type": "code",
      "metadata": {
        "id": "KxqwwpliN37h",
        "colab": {
          "base_uri": "https://localhost:8080/"
        },
        "outputId": "316bffa7-38c4-4755-decb-418d736be539"
      },
      "source": [
        "print(10*26)"
      ],
      "execution_count": null,
      "outputs": [
        {
          "output_type": "stream",
          "name": "stdout",
          "text": [
            "260\n"
          ]
        }
      ]
    },
    {
      "cell_type": "code",
      "metadata": {
        "id": "2OWjax3iN37k",
        "colab": {
          "base_uri": "https://localhost:8080/"
        },
        "outputId": "b351deaf-0b85-47dd-8309-e4f5cd28f302"
      },
      "source": [
        "print(6/50)"
      ],
      "execution_count": null,
      "outputs": [
        {
          "output_type": "stream",
          "name": "stdout",
          "text": [
            "0.12\n"
          ]
        }
      ]
    },
    {
      "cell_type": "markdown",
      "metadata": {
        "id": "6apXLqskN37m"
      },
      "source": [
        "Can put multiple commands in one \"cell\" in Jupyter/Colab.\n",
        "\n",
        "Let's do two additions in one cell:"
      ]
    },
    {
      "cell_type": "code",
      "metadata": {
        "id": "hhB-DFeXN37n",
        "colab": {
          "base_uri": "https://localhost:8080/"
        },
        "outputId": "e40138d2-8e75-4f0d-96d8-d2168ce434a7"
      },
      "source": [
        "print(2 + 2)\n",
        "print(100 + 100)"
      ],
      "execution_count": null,
      "outputs": [
        {
          "output_type": "stream",
          "name": "stdout",
          "text": [
            "4\n",
            "200\n"
          ]
        }
      ]
    },
    {
      "cell_type": "markdown",
      "metadata": {
        "id": "xHDpgmNvN37t"
      },
      "source": [
        "\n",
        "You can also get results without `print` calls---e.g. just typing `2+2` will print out the result:"
      ]
    },
    {
      "cell_type": "code",
      "metadata": {
        "id": "GQNJoiqDN37u",
        "colab": {
          "base_uri": "https://localhost:8080/"
        },
        "outputId": "3a891a97-bd4d-46f1-8c2e-f6b6de24b075"
      },
      "source": [
        "2+2"
      ],
      "execution_count": null,
      "outputs": [
        {
          "output_type": "execute_result",
          "data": {
            "text/plain": [
              "4"
            ]
          },
          "metadata": {},
          "execution_count": 11
        }
      ]
    },
    {
      "cell_type": "markdown",
      "metadata": {
        "id": "EioxuHWvN37x"
      },
      "source": [
        "But this only works for the last command in a group of commands. E.g. here, we don't see the result of `2+2` but we see the result of `10+10`:"
      ]
    },
    {
      "cell_type": "code",
      "metadata": {
        "id": "MvcPAmmyN37x",
        "colab": {
          "base_uri": "https://localhost:8080/"
        },
        "outputId": "f2106201-aaa8-41aa-82d5-23644f32eade"
      },
      "source": [
        "2+2\n",
        "10+10"
      ],
      "execution_count": null,
      "outputs": [
        {
          "output_type": "execute_result",
          "data": {
            "text/plain": [
              "20"
            ]
          },
          "metadata": {},
          "execution_count": 12
        }
      ]
    },
    {
      "cell_type": "markdown",
      "metadata": {
        "id": "ZR0qXN3hN370"
      },
      "source": [
        "It is better practice to use `print` always."
      ]
    },
    {
      "cell_type": "markdown",
      "metadata": {
        "id": "9MNfJDAYN370"
      },
      "source": [
        "We can also add human-readable comments in code cells by using the `#` sign.   Anything that follows the `#` in a line is ignored by Python."
      ]
    },
    {
      "cell_type": "code",
      "metadata": {
        "id": "JMLjBm5KN371",
        "colab": {
          "base_uri": "https://localhost:8080/"
        },
        "outputId": "454ff20e-f71d-4f84-ff40-065f19d7b5c2"
      },
      "source": [
        "# here is a note to myself: this command will compute an approximation to pi\n",
        "print(22/7)"
      ],
      "execution_count": null,
      "outputs": [
        {
          "output_type": "stream",
          "name": "stdout",
          "text": [
            "3.142857142857143\n"
          ]
        }
      ]
    },
    {
      "cell_type": "markdown",
      "metadata": {
        "id": "JCfdMkg-N373"
      },
      "source": [
        "Jupyter notebook cells vs \"base Python\":\n",
        "- Pure Python code is like one big code cell of Jupyter, and nothing else\n",
        "- The notebook interface allows us to insert nicely formatted text (such as this), or images, etc. in between lines of Python code"
      ]
    },
    {
      "cell_type": "markdown",
      "metadata": {
        "id": "25q24GxBN374"
      },
      "source": [
        "# Packages, imports, methods"
      ]
    },
    {
      "cell_type": "markdown",
      "metadata": {
        "id": "Xo9MXLzvN375"
      },
      "source": [
        "- Python (i.e. base Python language)doesn't have a command for taking square roots\n",
        "- But some nice people implemented square roots (and other things) for us, and bundled them inside a \"**package**\"\n",
        "- Our package is called `numpy`: This is one of the core packages we will use in this course"
      ]
    },
    {
      "cell_type": "markdown",
      "metadata": {
        "id": "QhsfyjlON377"
      },
      "source": [
        "- We load (or activate, in our current notebook session) a package using the `import` command\n",
        "- Within a given package, we choose the needed command using a dot (see below)"
      ]
    },
    {
      "cell_type": "code",
      "metadata": {
        "id": "9Z4292OpN378"
      },
      "source": [
        "import numpy"
      ],
      "execution_count": null,
      "outputs": []
    },
    {
      "cell_type": "code",
      "source": [
        "numpy.sqrt(2)"
      ],
      "metadata": {
        "colab": {
          "base_uri": "https://localhost:8080/"
        },
        "id": "yzPRYMHiYdlt",
        "outputId": "7358f209-7821-4ee3-9be0-b78b7a9b5772"
      },
      "execution_count": null,
      "outputs": [
        {
          "output_type": "execute_result",
          "data": {
            "text/plain": [
              "1.4142135623730951"
            ]
          },
          "metadata": {},
          "execution_count": 16
        }
      ]
    },
    {
      "cell_type": "markdown",
      "metadata": {
        "id": "v4lTFuNDN37_"
      },
      "source": [
        "The square root command (function) is called `sqrt`:"
      ]
    },
    {
      "cell_type": "code",
      "metadata": {
        "id": "y3gO48gjN38A",
        "colab": {
          "base_uri": "https://localhost:8080/"
        },
        "outputId": "d7241048-15e3-44f8-dfba-da1a40f0131f"
      },
      "source": [
        "print(numpy.sqrt(4))"
      ],
      "execution_count": null,
      "outputs": [
        {
          "output_type": "stream",
          "name": "stdout",
          "text": [
            "2.0\n"
          ]
        }
      ]
    },
    {
      "cell_type": "code",
      "metadata": {
        "id": "cqB2tvi-N38C",
        "colab": {
          "base_uri": "https://localhost:8080/"
        },
        "outputId": "13461049-a5d0-4117-b96d-9ceb49f7087a"
      },
      "source": [
        "print(numpy.sqrt(2))"
      ],
      "execution_count": null,
      "outputs": [
        {
          "output_type": "stream",
          "name": "stdout",
          "text": [
            "1.4142135623730951\n"
          ]
        }
      ]
    },
    {
      "cell_type": "markdown",
      "metadata": {
        "id": "D7LLJAhsN38E"
      },
      "source": [
        "- It is possible to import a package by specifying a different name than its original name\n",
        "- The syntax is \"`import <original package name> as <preferred name>`\"\n",
        "- This is done for e.g. brevity\n",
        "\n",
        "NumPy is commonly imported as `np`:"
      ]
    },
    {
      "cell_type": "code",
      "metadata": {
        "id": "GI4IjkvmN38F"
      },
      "source": [
        "import numpy as np"
      ],
      "execution_count": null,
      "outputs": []
    },
    {
      "cell_type": "markdown",
      "metadata": {
        "id": "m8u_-UMCN38I"
      },
      "source": [
        "From now on, we refer to `numpy` as `np`:"
      ]
    },
    {
      "cell_type": "code",
      "metadata": {
        "id": "OkvrQM3KN38J",
        "colab": {
          "base_uri": "https://localhost:8080/"
        },
        "outputId": "805b23a1-ebf9-49c1-c496-0d4fe5650863"
      },
      "source": [
        "print(np.sqrt(9))"
      ],
      "execution_count": null,
      "outputs": [
        {
          "output_type": "stream",
          "name": "stdout",
          "text": [
            "3.0\n"
          ]
        }
      ]
    },
    {
      "cell_type": "code",
      "source": [
        "np.sqrt(np.sqrt(4))"
      ],
      "metadata": {
        "id": "xZpc4rxF1kuZ",
        "colab": {
          "base_uri": "https://localhost:8080/"
        },
        "outputId": "488af148-5635-4401-9bb4-d993a9d695f2"
      },
      "execution_count": null,
      "outputs": [
        {
          "output_type": "execute_result",
          "data": {
            "text/plain": [
              "1.4142135623730951"
            ]
          },
          "metadata": {},
          "execution_count": 20
        }
      ]
    },
    {
      "cell_type": "markdown",
      "metadata": {
        "id": "lZW1mfmoN38N"
      },
      "source": [
        "Numpy has lots of other functionality which we will explore over time.\n",
        "\n",
        "To have a quick teaser, we list the many commands available under `numpy` using the `dir` command:"
      ]
    },
    {
      "cell_type": "code",
      "metadata": {
        "id": "ERevu-psQQxt",
        "colab": {
          "base_uri": "https://localhost:8080/"
        },
        "outputId": "4a84e43e-3ee6-4262-8919-79b636a1887f"
      },
      "source": [
        "# the dir function lists all the available commands (and other things) under a package\n",
        "dir(np)"
      ],
      "execution_count": null,
      "outputs": [
        {
          "output_type": "execute_result",
          "data": {
            "text/plain": [
              "['ALLOW_THREADS',\n",
              " 'BUFSIZE',\n",
              " 'CLIP',\n",
              " 'DataSource',\n",
              " 'ERR_CALL',\n",
              " 'ERR_DEFAULT',\n",
              " 'ERR_IGNORE',\n",
              " 'ERR_LOG',\n",
              " 'ERR_PRINT',\n",
              " 'ERR_RAISE',\n",
              " 'ERR_WARN',\n",
              " 'FLOATING_POINT_SUPPORT',\n",
              " 'FPE_DIVIDEBYZERO',\n",
              " 'FPE_INVALID',\n",
              " 'FPE_OVERFLOW',\n",
              " 'FPE_UNDERFLOW',\n",
              " 'False_',\n",
              " 'Inf',\n",
              " 'Infinity',\n",
              " 'MAXDIMS',\n",
              " 'MAY_SHARE_BOUNDS',\n",
              " 'MAY_SHARE_EXACT',\n",
              " 'NAN',\n",
              " 'NINF',\n",
              " 'NZERO',\n",
              " 'NaN',\n",
              " 'PINF',\n",
              " 'PZERO',\n",
              " 'RAISE',\n",
              " 'RankWarning',\n",
              " 'SHIFT_DIVIDEBYZERO',\n",
              " 'SHIFT_INVALID',\n",
              " 'SHIFT_OVERFLOW',\n",
              " 'SHIFT_UNDERFLOW',\n",
              " 'ScalarType',\n",
              " 'True_',\n",
              " 'UFUNC_BUFSIZE_DEFAULT',\n",
              " 'UFUNC_PYVALS_NAME',\n",
              " 'WRAP',\n",
              " '_CopyMode',\n",
              " '_NoValue',\n",
              " '_UFUNC_API',\n",
              " '__NUMPY_SETUP__',\n",
              " '__all__',\n",
              " '__builtins__',\n",
              " '__cached__',\n",
              " '__config__',\n",
              " '__deprecated_attrs__',\n",
              " '__dir__',\n",
              " '__doc__',\n",
              " '__expired_functions__',\n",
              " '__file__',\n",
              " '__former_attrs__',\n",
              " '__future_scalars__',\n",
              " '__getattr__',\n",
              " '__git_version__',\n",
              " '__loader__',\n",
              " '__name__',\n",
              " '__package__',\n",
              " '__path__',\n",
              " '__spec__',\n",
              " '__version__',\n",
              " '_add_newdoc_ufunc',\n",
              " '_builtins',\n",
              " '_distributor_init',\n",
              " '_financial_names',\n",
              " '_get_promotion_state',\n",
              " '_globals',\n",
              " '_int_extended_msg',\n",
              " '_mat',\n",
              " '_no_nep50_warning',\n",
              " '_pyinstaller_hooks_dir',\n",
              " '_pytesttester',\n",
              " '_set_promotion_state',\n",
              " '_specific_msg',\n",
              " '_typing',\n",
              " '_using_numpy2_behavior',\n",
              " '_utils',\n",
              " '_version',\n",
              " 'abs',\n",
              " 'absolute',\n",
              " 'add',\n",
              " 'add_docstring',\n",
              " 'add_newdoc',\n",
              " 'add_newdoc_ufunc',\n",
              " 'all',\n",
              " 'allclose',\n",
              " 'alltrue',\n",
              " 'amax',\n",
              " 'amin',\n",
              " 'angle',\n",
              " 'any',\n",
              " 'append',\n",
              " 'apply_along_axis',\n",
              " 'apply_over_axes',\n",
              " 'arange',\n",
              " 'arccos',\n",
              " 'arccosh',\n",
              " 'arcsin',\n",
              " 'arcsinh',\n",
              " 'arctan',\n",
              " 'arctan2',\n",
              " 'arctanh',\n",
              " 'argmax',\n",
              " 'argmin',\n",
              " 'argpartition',\n",
              " 'argsort',\n",
              " 'argwhere',\n",
              " 'around',\n",
              " 'array',\n",
              " 'array2string',\n",
              " 'array_equal',\n",
              " 'array_equiv',\n",
              " 'array_repr',\n",
              " 'array_split',\n",
              " 'array_str',\n",
              " 'asanyarray',\n",
              " 'asarray',\n",
              " 'asarray_chkfinite',\n",
              " 'ascontiguousarray',\n",
              " 'asfarray',\n",
              " 'asfortranarray',\n",
              " 'asmatrix',\n",
              " 'atleast_1d',\n",
              " 'atleast_2d',\n",
              " 'atleast_3d',\n",
              " 'average',\n",
              " 'bartlett',\n",
              " 'base_repr',\n",
              " 'binary_repr',\n",
              " 'bincount',\n",
              " 'bitwise_and',\n",
              " 'bitwise_not',\n",
              " 'bitwise_or',\n",
              " 'bitwise_xor',\n",
              " 'blackman',\n",
              " 'block',\n",
              " 'bmat',\n",
              " 'bool_',\n",
              " 'broadcast',\n",
              " 'broadcast_arrays',\n",
              " 'broadcast_shapes',\n",
              " 'broadcast_to',\n",
              " 'busday_count',\n",
              " 'busday_offset',\n",
              " 'busdaycalendar',\n",
              " 'byte',\n",
              " 'byte_bounds',\n",
              " 'bytes_',\n",
              " 'c_',\n",
              " 'can_cast',\n",
              " 'cast',\n",
              " 'cbrt',\n",
              " 'cdouble',\n",
              " 'ceil',\n",
              " 'cfloat',\n",
              " 'char',\n",
              " 'character',\n",
              " 'chararray',\n",
              " 'choose',\n",
              " 'clip',\n",
              " 'clongdouble',\n",
              " 'clongfloat',\n",
              " 'column_stack',\n",
              " 'common_type',\n",
              " 'compare_chararrays',\n",
              " 'compat',\n",
              " 'complex128',\n",
              " 'complex256',\n",
              " 'complex64',\n",
              " 'complex_',\n",
              " 'complexfloating',\n",
              " 'compress',\n",
              " 'concatenate',\n",
              " 'conj',\n",
              " 'conjugate',\n",
              " 'convolve',\n",
              " 'copy',\n",
              " 'copysign',\n",
              " 'copyto',\n",
              " 'corrcoef',\n",
              " 'correlate',\n",
              " 'cos',\n",
              " 'cosh',\n",
              " 'count_nonzero',\n",
              " 'cov',\n",
              " 'cross',\n",
              " 'csingle',\n",
              " 'ctypeslib',\n",
              " 'cumprod',\n",
              " 'cumproduct',\n",
              " 'cumsum',\n",
              " 'datetime64',\n",
              " 'datetime_as_string',\n",
              " 'datetime_data',\n",
              " 'deg2rad',\n",
              " 'degrees',\n",
              " 'delete',\n",
              " 'deprecate',\n",
              " 'deprecate_with_doc',\n",
              " 'diag',\n",
              " 'diag_indices',\n",
              " 'diag_indices_from',\n",
              " 'diagflat',\n",
              " 'diagonal',\n",
              " 'diff',\n",
              " 'digitize',\n",
              " 'disp',\n",
              " 'divide',\n",
              " 'divmod',\n",
              " 'dot',\n",
              " 'double',\n",
              " 'dsplit',\n",
              " 'dstack',\n",
              " 'dtype',\n",
              " 'dtypes',\n",
              " 'e',\n",
              " 'ediff1d',\n",
              " 'einsum',\n",
              " 'einsum_path',\n",
              " 'emath',\n",
              " 'empty',\n",
              " 'empty_like',\n",
              " 'equal',\n",
              " 'errstate',\n",
              " 'euler_gamma',\n",
              " 'exceptions',\n",
              " 'exp',\n",
              " 'exp2',\n",
              " 'expand_dims',\n",
              " 'expm1',\n",
              " 'extract',\n",
              " 'eye',\n",
              " 'fabs',\n",
              " 'fastCopyAndTranspose',\n",
              " 'fft',\n",
              " 'fill_diagonal',\n",
              " 'find_common_type',\n",
              " 'finfo',\n",
              " 'fix',\n",
              " 'flatiter',\n",
              " 'flatnonzero',\n",
              " 'flexible',\n",
              " 'flip',\n",
              " 'fliplr',\n",
              " 'flipud',\n",
              " 'float128',\n",
              " 'float16',\n",
              " 'float32',\n",
              " 'float64',\n",
              " 'float_',\n",
              " 'float_power',\n",
              " 'floating',\n",
              " 'floor',\n",
              " 'floor_divide',\n",
              " 'fmax',\n",
              " 'fmin',\n",
              " 'fmod',\n",
              " 'format_float_positional',\n",
              " 'format_float_scientific',\n",
              " 'format_parser',\n",
              " 'frexp',\n",
              " 'from_dlpack',\n",
              " 'frombuffer',\n",
              " 'fromfile',\n",
              " 'fromfunction',\n",
              " 'fromiter',\n",
              " 'frompyfunc',\n",
              " 'fromregex',\n",
              " 'fromstring',\n",
              " 'full',\n",
              " 'full_like',\n",
              " 'gcd',\n",
              " 'generic',\n",
              " 'genfromtxt',\n",
              " 'geomspace',\n",
              " 'get_array_wrap',\n",
              " 'get_include',\n",
              " 'get_printoptions',\n",
              " 'getbufsize',\n",
              " 'geterr',\n",
              " 'geterrcall',\n",
              " 'geterrobj',\n",
              " 'gradient',\n",
              " 'greater',\n",
              " 'greater_equal',\n",
              " 'half',\n",
              " 'hamming',\n",
              " 'hanning',\n",
              " 'heaviside',\n",
              " 'histogram',\n",
              " 'histogram2d',\n",
              " 'histogram_bin_edges',\n",
              " 'histogramdd',\n",
              " 'hsplit',\n",
              " 'hstack',\n",
              " 'hypot',\n",
              " 'i0',\n",
              " 'identity',\n",
              " 'iinfo',\n",
              " 'imag',\n",
              " 'in1d',\n",
              " 'index_exp',\n",
              " 'indices',\n",
              " 'inexact',\n",
              " 'inf',\n",
              " 'info',\n",
              " 'infty',\n",
              " 'inner',\n",
              " 'insert',\n",
              " 'int16',\n",
              " 'int32',\n",
              " 'int64',\n",
              " 'int8',\n",
              " 'int_',\n",
              " 'intc',\n",
              " 'integer',\n",
              " 'interp',\n",
              " 'intersect1d',\n",
              " 'intp',\n",
              " 'invert',\n",
              " 'is_busday',\n",
              " 'isclose',\n",
              " 'iscomplex',\n",
              " 'iscomplexobj',\n",
              " 'isfinite',\n",
              " 'isfortran',\n",
              " 'isin',\n",
              " 'isinf',\n",
              " 'isnan',\n",
              " 'isnat',\n",
              " 'isneginf',\n",
              " 'isposinf',\n",
              " 'isreal',\n",
              " 'isrealobj',\n",
              " 'isscalar',\n",
              " 'issctype',\n",
              " 'issubclass_',\n",
              " 'issubdtype',\n",
              " 'issubsctype',\n",
              " 'iterable',\n",
              " 'ix_',\n",
              " 'kaiser',\n",
              " 'kernel_version',\n",
              " 'kron',\n",
              " 'lcm',\n",
              " 'ldexp',\n",
              " 'left_shift',\n",
              " 'less',\n",
              " 'less_equal',\n",
              " 'lexsort',\n",
              " 'lib',\n",
              " 'linalg',\n",
              " 'linspace',\n",
              " 'little_endian',\n",
              " 'load',\n",
              " 'loadtxt',\n",
              " 'log',\n",
              " 'log10',\n",
              " 'log1p',\n",
              " 'log2',\n",
              " 'logaddexp',\n",
              " 'logaddexp2',\n",
              " 'logical_and',\n",
              " 'logical_not',\n",
              " 'logical_or',\n",
              " 'logical_xor',\n",
              " 'logspace',\n",
              " 'longcomplex',\n",
              " 'longdouble',\n",
              " 'longfloat',\n",
              " 'longlong',\n",
              " 'lookfor',\n",
              " 'ma',\n",
              " 'mask_indices',\n",
              " 'mat',\n",
              " 'matmul',\n",
              " 'matrix',\n",
              " 'max',\n",
              " 'maximum',\n",
              " 'maximum_sctype',\n",
              " 'may_share_memory',\n",
              " 'mean',\n",
              " 'median',\n",
              " 'memmap',\n",
              " 'meshgrid',\n",
              " 'mgrid',\n",
              " 'min',\n",
              " 'min_scalar_type',\n",
              " 'minimum',\n",
              " 'mintypecode',\n",
              " 'mod',\n",
              " 'modf',\n",
              " 'moveaxis',\n",
              " 'msort',\n",
              " 'multiply',\n",
              " 'nan',\n",
              " 'nan_to_num',\n",
              " 'nanargmax',\n",
              " 'nanargmin',\n",
              " 'nancumprod',\n",
              " 'nancumsum',\n",
              " 'nanmax',\n",
              " 'nanmean',\n",
              " 'nanmedian',\n",
              " 'nanmin',\n",
              " 'nanpercentile',\n",
              " 'nanprod',\n",
              " 'nanquantile',\n",
              " 'nanstd',\n",
              " 'nansum',\n",
              " 'nanvar',\n",
              " 'nbytes',\n",
              " 'ndarray',\n",
              " 'ndenumerate',\n",
              " 'ndim',\n",
              " 'ndindex',\n",
              " 'nditer',\n",
              " 'negative',\n",
              " 'nested_iters',\n",
              " 'newaxis',\n",
              " 'nextafter',\n",
              " 'nonzero',\n",
              " 'not_equal',\n",
              " 'numarray',\n",
              " 'number',\n",
              " 'obj2sctype',\n",
              " 'object_',\n",
              " 'ogrid',\n",
              " 'oldnumeric',\n",
              " 'ones',\n",
              " 'ones_like',\n",
              " 'outer',\n",
              " 'packbits',\n",
              " 'pad',\n",
              " 'partition',\n",
              " 'percentile',\n",
              " 'pi',\n",
              " 'piecewise',\n",
              " 'place',\n",
              " 'poly',\n",
              " 'poly1d',\n",
              " 'polyadd',\n",
              " 'polyder',\n",
              " 'polydiv',\n",
              " 'polyfit',\n",
              " 'polyint',\n",
              " 'polymul',\n",
              " 'polynomial',\n",
              " 'polysub',\n",
              " 'polyval',\n",
              " 'positive',\n",
              " 'power',\n",
              " 'printoptions',\n",
              " 'prod',\n",
              " 'product',\n",
              " 'promote_types',\n",
              " 'ptp',\n",
              " 'put',\n",
              " 'put_along_axis',\n",
              " 'putmask',\n",
              " 'quantile',\n",
              " 'r_',\n",
              " 'rad2deg',\n",
              " 'radians',\n",
              " 'random',\n",
              " 'ravel',\n",
              " 'ravel_multi_index',\n",
              " 'real',\n",
              " 'real_if_close',\n",
              " 'rec',\n",
              " 'recarray',\n",
              " 'recfromcsv',\n",
              " 'recfromtxt',\n",
              " 'reciprocal',\n",
              " 'record',\n",
              " 'remainder',\n",
              " 'repeat',\n",
              " 'require',\n",
              " 'reshape',\n",
              " 'resize',\n",
              " 'result_type',\n",
              " 'right_shift',\n",
              " 'rint',\n",
              " 'roll',\n",
              " 'rollaxis',\n",
              " 'roots',\n",
              " 'rot90',\n",
              " 'round',\n",
              " 'round_',\n",
              " 'row_stack',\n",
              " 's_',\n",
              " 'safe_eval',\n",
              " 'save',\n",
              " 'savetxt',\n",
              " 'savez',\n",
              " 'savez_compressed',\n",
              " 'sctype2char',\n",
              " 'sctypeDict',\n",
              " 'sctypes',\n",
              " 'searchsorted',\n",
              " 'select',\n",
              " 'set_numeric_ops',\n",
              " 'set_printoptions',\n",
              " 'set_string_function',\n",
              " 'setbufsize',\n",
              " 'setdiff1d',\n",
              " 'seterr',\n",
              " 'seterrcall',\n",
              " 'seterrobj',\n",
              " 'setxor1d',\n",
              " 'shape',\n",
              " 'shares_memory',\n",
              " 'short',\n",
              " 'show_config',\n",
              " 'show_runtime',\n",
              " 'sign',\n",
              " 'signbit',\n",
              " 'signedinteger',\n",
              " 'sin',\n",
              " 'sinc',\n",
              " 'single',\n",
              " 'singlecomplex',\n",
              " 'sinh',\n",
              " 'size',\n",
              " 'sometrue',\n",
              " 'sort',\n",
              " 'sort_complex',\n",
              " 'source',\n",
              " 'spacing',\n",
              " 'split',\n",
              " 'sqrt',\n",
              " 'square',\n",
              " 'squeeze',\n",
              " 'stack',\n",
              " 'std',\n",
              " 'str_',\n",
              " 'string_',\n",
              " 'subtract',\n",
              " 'sum',\n",
              " 'swapaxes',\n",
              " 'take',\n",
              " 'take_along_axis',\n",
              " 'tan',\n",
              " 'tanh',\n",
              " 'tensordot',\n",
              " 'test',\n",
              " 'testing',\n",
              " 'tile',\n",
              " 'timedelta64',\n",
              " 'trace',\n",
              " 'tracemalloc_domain',\n",
              " 'transpose',\n",
              " 'trapz',\n",
              " 'tri',\n",
              " 'tril',\n",
              " 'tril_indices',\n",
              " 'tril_indices_from',\n",
              " 'trim_zeros',\n",
              " 'triu',\n",
              " 'triu_indices',\n",
              " 'triu_indices_from',\n",
              " 'true_divide',\n",
              " 'trunc',\n",
              " 'typecodes',\n",
              " 'typename',\n",
              " 'ubyte',\n",
              " 'ufunc',\n",
              " 'uint',\n",
              " 'uint16',\n",
              " 'uint32',\n",
              " 'uint64',\n",
              " 'uint8',\n",
              " 'uintc',\n",
              " 'uintp',\n",
              " 'ulonglong',\n",
              " 'unicode_',\n",
              " 'union1d',\n",
              " 'unique',\n",
              " 'unpackbits',\n",
              " 'unravel_index',\n",
              " 'unsignedinteger',\n",
              " 'unwrap',\n",
              " 'ushort',\n",
              " 'vander',\n",
              " 'var',\n",
              " 'vdot',\n",
              " 'vectorize',\n",
              " 'version',\n",
              " 'void',\n",
              " 'vsplit',\n",
              " 'vstack',\n",
              " 'where',\n",
              " 'who',\n",
              " 'zeros',\n",
              " 'zeros_like']"
            ]
          },
          "metadata": {},
          "execution_count": 21
        }
      ]
    },
    {
      "cell_type": "markdown",
      "metadata": {
        "id": "REZXYf8oN38O"
      },
      "source": [
        "# Variables"
      ]
    },
    {
      "cell_type": "markdown",
      "metadata": {
        "id": "lcao3EQ1N38O"
      },
      "source": [
        "Variables are like named boxes where we put data.\n",
        "\n",
        "A simple example: We put the number `123` inside a box named `a`:"
      ]
    },
    {
      "cell_type": "code",
      "metadata": {
        "id": "mE_LIfcnN38P"
      },
      "source": [
        "a = 123"
      ],
      "execution_count": null,
      "outputs": []
    },
    {
      "cell_type": "markdown",
      "metadata": {
        "id": "ckVnS7Z6N38R"
      },
      "source": [
        "From now on, \"`a`\" now refers to the number `123`:"
      ]
    },
    {
      "cell_type": "code",
      "source": [],
      "metadata": {
        "id": "3h6di072oN2u"
      },
      "execution_count": null,
      "outputs": []
    },
    {
      "cell_type": "code",
      "metadata": {
        "id": "UBfMbYqjN38S",
        "colab": {
          "base_uri": "https://localhost:8080/"
        },
        "outputId": "4ac28c7d-ae5d-48a2-cc9a-84eac6656332"
      },
      "source": [
        "print(a)"
      ],
      "execution_count": null,
      "outputs": [
        {
          "output_type": "stream",
          "name": "stdout",
          "text": [
            "123\n"
          ]
        }
      ]
    },
    {
      "cell_type": "code",
      "metadata": {
        "id": "xPB064fEN38U",
        "colab": {
          "base_uri": "https://localhost:8080/"
        },
        "outputId": "02d5ebba-4163-4372-a7cf-286fce835116"
      },
      "source": [
        "print(a+1)"
      ],
      "execution_count": null,
      "outputs": [
        {
          "output_type": "stream",
          "name": "stdout",
          "text": [
            "124\n"
          ]
        }
      ]
    },
    {
      "cell_type": "markdown",
      "metadata": {
        "id": "CrLqQDQLEKwY"
      },
      "source": [
        "Another variable:\n"
      ]
    },
    {
      "cell_type": "code",
      "source": [
        "b = 10000"
      ],
      "metadata": {
        "id": "CMEGSI6X5Lmc"
      },
      "execution_count": null,
      "outputs": []
    },
    {
      "cell_type": "code",
      "source": [
        "b"
      ],
      "metadata": {
        "id": "_UwyMhth5fff",
        "colab": {
          "base_uri": "https://localhost:8080/"
        },
        "outputId": "a4cd9815-0d08-4945-e90e-6b59a5d17be9"
      },
      "execution_count": null,
      "outputs": [
        {
          "output_type": "execute_result",
          "data": {
            "text/plain": [
              "10000"
            ]
          },
          "metadata": {},
          "execution_count": 27
        }
      ]
    },
    {
      "cell_type": "code",
      "metadata": {
        "id": "6b5_bsHbN38Z",
        "colab": {
          "base_uri": "https://localhost:8080/"
        },
        "outputId": "8915940a-882d-4570-a5ee-dc9c11206dd6"
      },
      "source": [
        "print(a+b)"
      ],
      "execution_count": null,
      "outputs": [
        {
          "output_type": "stream",
          "name": "stdout",
          "text": [
            "10123\n"
          ]
        }
      ]
    },
    {
      "cell_type": "markdown",
      "metadata": {
        "id": "hS95XJeCN38c"
      },
      "source": [
        "You can refer to variables while setting variables, too"
      ]
    },
    {
      "cell_type": "code",
      "metadata": {
        "id": "5PHs8nsaN38d"
      },
      "source": [
        "c = a + b"
      ],
      "execution_count": null,
      "outputs": []
    },
    {
      "cell_type": "code",
      "metadata": {
        "id": "Z65_SR9kN38g",
        "colab": {
          "base_uri": "https://localhost:8080/"
        },
        "outputId": "2500ba43-9dab-4fcb-ea05-1208ea6d7369"
      },
      "source": [
        "print(c)"
      ],
      "execution_count": null,
      "outputs": [
        {
          "output_type": "stream",
          "name": "stdout",
          "text": [
            "10123\n"
          ]
        }
      ]
    },
    {
      "cell_type": "markdown",
      "metadata": {
        "id": "rLZ7yNjbEP0t"
      },
      "source": [
        "- Note that `c` is set to the current value of the right hand side, i.e., if you update `a` or `b`, `c` will not change, it will stay as `133`.\n",
        "- There are Python packages that allow you to link variables to each other so that if you change one, the others change, too, but let's leave that to the future."
      ]
    },
    {
      "cell_type": "markdown",
      "metadata": {
        "id": "ALsII5gCN38i"
      },
      "source": [
        "Here's something that is perhaps confusing at first sight:"
      ]
    },
    {
      "cell_type": "code",
      "source": [
        "a = 2000"
      ],
      "metadata": {
        "id": "utUIMNwt6UsU"
      },
      "execution_count": null,
      "outputs": []
    },
    {
      "cell_type": "code",
      "source": [
        "a = 1\n",
        "b = 2"
      ],
      "metadata": {
        "id": "eQ5Vl58ypPgI"
      },
      "execution_count": null,
      "outputs": []
    },
    {
      "cell_type": "code",
      "source": [
        "a = b"
      ],
      "metadata": {
        "id": "lZVEKuDgpR4R"
      },
      "execution_count": null,
      "outputs": []
    },
    {
      "cell_type": "code",
      "source": [
        "c"
      ],
      "metadata": {
        "colab": {
          "base_uri": "https://localhost:8080/"
        },
        "id": "Dzt__MUFbbxN",
        "outputId": "3f8de8dc-9005-4a56-e27c-e90f59584325"
      },
      "execution_count": null,
      "outputs": [
        {
          "output_type": "execute_result",
          "data": {
            "text/plain": [
              "10123"
            ]
          },
          "metadata": {},
          "execution_count": 32
        }
      ]
    },
    {
      "cell_type": "code",
      "metadata": {
        "id": "e-WqvMexN38j"
      },
      "source": [
        "a = a + 1"
      ],
      "execution_count": null,
      "outputs": []
    },
    {
      "cell_type": "code",
      "source": [
        "a"
      ],
      "metadata": {
        "colab": {
          "base_uri": "https://localhost:8080/"
        },
        "id": "aPP7UDGspib3",
        "outputId": "0b6ca3f3-0067-4350-fde3-c66539abe2e3"
      },
      "execution_count": null,
      "outputs": [
        {
          "output_type": "execute_result",
          "data": {
            "text/plain": [
              "2"
            ]
          },
          "metadata": {},
          "execution_count": 35
        }
      ]
    },
    {
      "cell_type": "markdown",
      "metadata": {
        "id": "3T-lgzL1N38n"
      },
      "source": [
        "- What does this even mean? It is mathematically inconsistent!\n",
        "- The `=` sign is perhaps a bit inappropriate; in Python, it is used for:\n",
        "   - setting the thing on the left hand side to (the current value of) whatever is on the right hand side\n",
        "- In some other languages, one uses a less ambiguous symbol for assignment\n",
        "  - One example is the symbol `<-`, which is used in the R programming language\n",
        "\n",
        "In the case above, `a` was originally 123, so this command sets `a` to `123 + 1`:"
      ]
    },
    {
      "cell_type": "code",
      "metadata": {
        "id": "lBFxptAzN38o",
        "colab": {
          "base_uri": "https://localhost:8080/"
        },
        "outputId": "e76a9577-55db-4d31-bae4-63f67b2d3764"
      },
      "source": [
        "print(a)"
      ],
      "execution_count": null,
      "outputs": [
        {
          "output_type": "stream",
          "name": "stdout",
          "text": [
            "2001\n"
          ]
        }
      ]
    },
    {
      "cell_type": "markdown",
      "metadata": {
        "id": "CBFFAj-PN38q"
      },
      "source": [
        "- The variable `a` has increased by one, from now on, it is `124`\n",
        "\n",
        "This also shows that we can update variables in a given Python session, they are not set for good.\n",
        "\n",
        "Let's do that a few times in a single cell:"
      ]
    },
    {
      "cell_type": "code",
      "metadata": {
        "id": "9Kayr6wHN38q",
        "colab": {
          "base_uri": "https://localhost:8080/"
        },
        "outputId": "d97e632a-d1d2-472e-e84b-054fca54820b"
      },
      "source": [
        "b = 10\n",
        "print(b)\n",
        "b = b + 1\n",
        "print(b)\n",
        "b = b + 1\n",
        "print(b)"
      ],
      "execution_count": null,
      "outputs": [
        {
          "output_type": "stream",
          "name": "stdout",
          "text": [
            "10\n",
            "11\n",
            "12\n"
          ]
        }
      ]
    },
    {
      "cell_type": "code",
      "source": [
        "b"
      ],
      "metadata": {
        "id": "_38ri-OncbYx",
        "colab": {
          "base_uri": "https://localhost:8080/"
        },
        "outputId": "d4cffa6d-8111-4a07-86be-300da7b94120"
      },
      "execution_count": null,
      "outputs": [
        {
          "output_type": "execute_result",
          "data": {
            "text/plain": [
              "12"
            ]
          },
          "metadata": {},
          "execution_count": 37
        }
      ]
    },
    {
      "cell_type": "markdown",
      "metadata": {
        "id": "7fXVmdMQN38x"
      },
      "source": [
        "- Up to now, we used `a`, `b`, etc. for variable names, but we can use longer names\n",
        "- Some things aren't accepted as variable names\n",
        "- You are allowed to use letters, numbers, and underscores in variable names\n",
        "- Variable names can't *start* with a number\n",
        "- Avoid using name that Python already knows about; e.g. don't name your variable `print`"
      ]
    },
    {
      "cell_type": "code",
      "metadata": {
        "id": "hgO4a62eN38x",
        "colab": {
          "base_uri": "https://localhost:8080/"
        },
        "outputId": "e9b7b56b-beae-45af-ffff-eb7b815fe2f1"
      },
      "source": [
        "myvariable = 1\n",
        "my_other_variable = 2\n",
        "my_variable123 = 3\n",
        "\n",
        "print(myvariable)\n",
        "print(my_other_variable)\n",
        "print(my_variable123)"
      ],
      "execution_count": null,
      "outputs": [
        {
          "output_type": "stream",
          "name": "stdout",
          "text": [
            "1\n",
            "2\n",
            "3\n"
          ]
        }
      ]
    },
    {
      "cell_type": "code",
      "metadata": {
        "id": "9eVhgkPLk0gu",
        "colab": {
          "base_uri": "https://localhost:8080/"
        },
        "outputId": "5b37ddfb-5163-4463-ea9f-23a113eabada"
      },
      "source": [
        "print(myvariable + my_other_variable)"
      ],
      "execution_count": null,
      "outputs": [
        {
          "output_type": "stream",
          "name": "stdout",
          "text": [
            "3\n"
          ]
        }
      ]
    },
    {
      "cell_type": "markdown",
      "metadata": {
        "id": "FNm8Xb1nN38z"
      },
      "source": [
        "- It is a good idea to give concise but descriptive names to variables\n",
        "  - Can use `height`, `speed`, `mass`, etc. for physics problems\n",
        "- Integers/variables that count things are usually given names like i, j, k\n",
        "- Real number are usually given names like x, y, z\n",
        "- If you will use a compound name that consists of multiple words, the Python practice is to use lowercase letters, and to separate words with single underscores (as in `my_other_variable`)"
      ]
    },
    {
      "cell_type": "markdown",
      "metadata": {
        "id": "Ep2NffEXN380"
      },
      "source": [
        "# Strings"
      ]
    },
    {
      "cell_type": "markdown",
      "metadata": {
        "id": "ZVPLJLaDN380"
      },
      "source": [
        "- What if we wanted to print the letter \"`a`\", or any other letter, or some words, even sentences?\n",
        "- We put such things in quote signs\n"
      ]
    },
    {
      "cell_type": "code",
      "metadata": {
        "id": "pT0jo5LmN381",
        "colab": {
          "base_uri": "https://localhost:8080/"
        },
        "outputId": "17c1d03c-ef65-4b32-8aef-1790719aee05"
      },
      "source": [
        "print(\"Hello!\")"
      ],
      "execution_count": null,
      "outputs": [
        {
          "output_type": "stream",
          "name": "stdout",
          "text": [
            "Hello!\n"
          ]
        }
      ]
    },
    {
      "cell_type": "code",
      "metadata": {
        "id": "MJ0_X8KlN383"
      },
      "source": [
        "s = \"Hello again!\""
      ],
      "execution_count": null,
      "outputs": []
    },
    {
      "cell_type": "code",
      "metadata": {
        "id": "JiPggSzjN384",
        "colab": {
          "base_uri": "https://localhost:8080/"
        },
        "outputId": "53840746-74aa-440c-b28a-cc08f8034fbf"
      },
      "source": [
        "print(s)"
      ],
      "execution_count": null,
      "outputs": [
        {
          "output_type": "stream",
          "name": "stdout",
          "text": [
            "Hello again!\n"
          ]
        }
      ]
    },
    {
      "cell_type": "markdown",
      "metadata": {
        "id": "ePUm5In0N386"
      },
      "source": [
        "Such variables are called **strings** (as opposed to numbers)"
      ]
    },
    {
      "cell_type": "markdown",
      "metadata": {
        "id": "xB41KZ5hN387"
      },
      "source": [
        "We can use single quotes instead of double:"
      ]
    },
    {
      "cell_type": "code",
      "metadata": {
        "id": "ePcsJ30vN38-",
        "colab": {
          "base_uri": "https://localhost:8080/"
        },
        "outputId": "e0c471d1-32a2-4f1b-b5ff-fda97ca6f01c"
      },
      "source": [
        "print('Hey!')"
      ],
      "execution_count": null,
      "outputs": [
        {
          "output_type": "stream",
          "name": "stdout",
          "text": [
            "Hey!\n"
          ]
        }
      ]
    },
    {
      "cell_type": "markdown",
      "metadata": {
        "id": "j8MamYJON39E"
      },
      "source": [
        "Python also has a notion of \"adding\" strings: it simply means concatenating them:"
      ]
    },
    {
      "cell_type": "code",
      "metadata": {
        "id": "6UpHQUVuN39E"
      },
      "source": [
        "t = \"!!!!\""
      ],
      "execution_count": null,
      "outputs": []
    },
    {
      "cell_type": "code",
      "source": [
        "print(t)"
      ],
      "metadata": {
        "colab": {
          "base_uri": "https://localhost:8080/"
        },
        "id": "U9kQFqtost1k",
        "outputId": "d467dfa6-fde6-4afa-9e1e-26fc017ca7ce"
      },
      "execution_count": null,
      "outputs": [
        {
          "output_type": "stream",
          "name": "stdout",
          "text": [
            "!!!!\n"
          ]
        }
      ]
    },
    {
      "cell_type": "code",
      "metadata": {
        "id": "sM-I4ZlSN39G",
        "colab": {
          "base_uri": "https://localhost:8080/"
        },
        "outputId": "ee7474ba-fa11-4110-fe5b-d17f05406279"
      },
      "source": [
        "print(s + t)"
      ],
      "execution_count": null,
      "outputs": [
        {
          "output_type": "stream",
          "name": "stdout",
          "text": [
            "Hello again!!!!!\n"
          ]
        }
      ]
    },
    {
      "cell_type": "code",
      "metadata": {
        "id": "I2hPkdcqqkO4"
      },
      "source": [
        "u = s + t"
      ],
      "execution_count": null,
      "outputs": []
    },
    {
      "cell_type": "code",
      "metadata": {
        "id": "yaj-iykZqpGs",
        "colab": {
          "base_uri": "https://localhost:8080/"
        },
        "outputId": "3dc30b11-28cc-44f4-fa03-d20b3202cf99"
      },
      "source": [
        "print(u)"
      ],
      "execution_count": null,
      "outputs": [
        {
          "output_type": "stream",
          "name": "stdout",
          "text": [
            "Hello again!!!!!\n"
          ]
        }
      ]
    },
    {
      "cell_type": "markdown",
      "metadata": {
        "id": "ZC71287EN39J"
      },
      "source": [
        "# Errors"
      ]
    },
    {
      "cell_type": "markdown",
      "metadata": {
        "id": "1UfyMk51N39K"
      },
      "source": [
        "- Programming languages are very strict and precise\n",
        "- You can't just type anything you want and hope the computer understands, you have to adhere to a restrictive set of rules\n",
        "- If you don't, the computer will stop and (hopefully) complain\n",
        "\n",
        "Much of our time as Python programmers will be spent trying to understand the error messages in Python, so it is a good idea to make a habit of paying attention to them.\n",
        "\n",
        "Here is a nonsensical \"command\", which annoys Python:"
      ]
    },
    {
      "cell_type": "code",
      "metadata": {
        "id": "SmxDxCJlN39L",
        "colab": {
          "base_uri": "https://localhost:8080/",
          "height": 108
        },
        "outputId": "134a3c27-c521-4eab-b48f-41692515b23c"
      },
      "source": [
        "print mrint oyle bisey"
      ],
      "execution_count": null,
      "outputs": [
        {
          "output_type": "error",
          "ename": "SyntaxError",
          "evalue": "Missing parentheses in call to 'print'. Did you mean print(...)? (<ipython-input-50-a9f747081845>, line 1)",
          "traceback": [
            "\u001b[0;36m  File \u001b[0;32m\"<ipython-input-50-a9f747081845>\"\u001b[0;36m, line \u001b[0;32m1\u001b[0m\n\u001b[0;31m    print mrint oyle bisey\u001b[0m\n\u001b[0m    ^\u001b[0m\n\u001b[0;31mSyntaxError\u001b[0m\u001b[0;31m:\u001b[0m Missing parentheses in call to 'print'. Did you mean print(...)?\n"
          ]
        }
      ]
    },
    {
      "cell_type": "markdown",
      "metadata": {
        "id": "1dKK93__N39S"
      },
      "source": [
        "- The last line is what we should focus on\n",
        "- `SyntaxError` is the type of error Python noticed: by this, Python means \"I don't even know what you are talking about\"\n",
        "  - I.e., the specified command can't be interpreted within the Python language"
      ]
    },
    {
      "cell_type": "markdown",
      "metadata": {
        "id": "MucFH5_NwI_0"
      },
      "source": [
        "Here's another error:"
      ]
    },
    {
      "cell_type": "code",
      "metadata": {
        "id": "bTlQPiRyN39T",
        "colab": {
          "base_uri": "https://localhost:8080/",
          "height": 180
        },
        "outputId": "acbe8813-91e4-48ff-a3e1-13109f1d616c"
      },
      "source": [
        "s = \"Let's see if this works\"\n",
        "a = 10\n",
        "print(s + a)"
      ],
      "execution_count": null,
      "outputs": [
        {
          "output_type": "error",
          "ename": "TypeError",
          "evalue": "can only concatenate str (not \"int\") to str",
          "traceback": [
            "\u001b[0;31m---------------------------------------------------------------------------\u001b[0m",
            "\u001b[0;31mTypeError\u001b[0m                                 Traceback (most recent call last)",
            "\u001b[0;32m<ipython-input-51-13af14809808>\u001b[0m in \u001b[0;36m<cell line: 3>\u001b[0;34m()\u001b[0m\n\u001b[1;32m      1\u001b[0m \u001b[0ms\u001b[0m \u001b[0;34m=\u001b[0m \u001b[0;34m\"Let's see if this works\"\u001b[0m\u001b[0;34m\u001b[0m\u001b[0;34m\u001b[0m\u001b[0m\n\u001b[1;32m      2\u001b[0m \u001b[0ma\u001b[0m \u001b[0;34m=\u001b[0m \u001b[0;36m10\u001b[0m\u001b[0;34m\u001b[0m\u001b[0;34m\u001b[0m\u001b[0m\n\u001b[0;32m----> 3\u001b[0;31m \u001b[0mprint\u001b[0m\u001b[0;34m(\u001b[0m\u001b[0ms\u001b[0m \u001b[0;34m+\u001b[0m \u001b[0ma\u001b[0m\u001b[0;34m)\u001b[0m\u001b[0;34m\u001b[0m\u001b[0;34m\u001b[0m\u001b[0m\n\u001b[0m",
            "\u001b[0;31mTypeError\u001b[0m: can only concatenate str (not \"int\") to str"
          ]
        }
      ]
    },
    {
      "cell_type": "markdown",
      "metadata": {
        "id": "ZQOqti6zN39U"
      },
      "source": [
        "Once again, the last line is what we should focus on (at least initially)\n",
        "- `TypeError`: we're trying to do something that doesn't make sense with the data types we have\n",
        "- Mentions 'str' (string) and 'int' (integer) objects\n",
        "- Python is telling us it doesn't know how to add an integer to a string"
      ]
    },
    {
      "cell_type": "markdown",
      "metadata": {
        "id": "gP1T-Tu0N39U"
      },
      "source": [
        "Another error:"
      ]
    },
    {
      "cell_type": "code",
      "source": [
        "s +"
      ],
      "metadata": {
        "id": "TXJuIqshvWDc"
      },
      "execution_count": null,
      "outputs": []
    },
    {
      "cell_type": "code",
      "metadata": {
        "id": "cae6gA1FN39V",
        "colab": {
          "base_uri": "https://localhost:8080/",
          "height": 144
        },
        "outputId": "2c4d2628-cff5-4d8e-8bdb-76615ecb9de7"
      },
      "source": [
        "print(5/0)"
      ],
      "execution_count": null,
      "outputs": [
        {
          "output_type": "error",
          "ename": "ZeroDivisionError",
          "evalue": "division by zero",
          "traceback": [
            "\u001b[0;31m---------------------------------------------------------------------------\u001b[0m",
            "\u001b[0;31mZeroDivisionError\u001b[0m                         Traceback (most recent call last)",
            "\u001b[0;32m<ipython-input-52-fad870a50e27>\u001b[0m in \u001b[0;36m<cell line: 1>\u001b[0;34m()\u001b[0m\n\u001b[0;32m----> 1\u001b[0;31m \u001b[0mprint\u001b[0m\u001b[0;34m(\u001b[0m\u001b[0;36m5\u001b[0m\u001b[0;34m/\u001b[0m\u001b[0;36m0\u001b[0m\u001b[0;34m)\u001b[0m\u001b[0;34m\u001b[0m\u001b[0;34m\u001b[0m\u001b[0m\n\u001b[0m",
            "\u001b[0;31mZeroDivisionError\u001b[0m: division by zero"
          ]
        }
      ]
    },
    {
      "cell_type": "markdown",
      "metadata": {
        "id": "3vFn2HcbN39X"
      },
      "source": [
        "# Other data types: Lists"
      ]
    },
    {
      "cell_type": "markdown",
      "metadata": {
        "id": "xYz2K3tbN39Y"
      },
      "source": [
        "- We saw numbers and strings\n",
        "  - Numbers actually come in more than one type, but let's leave that for now\n",
        "- A **list** holds a list of multiple values:\n",
        "- We use brackets and commas to separate the values we want to include in our list"
      ]
    },
    {
      "cell_type": "code",
      "metadata": {
        "id": "u06joFe2N39Z"
      },
      "source": [
        "l = [10, 20, 30, 40] # note that this is the \"letter l\", not the number one (and this is a comment since it comes after the # sign)"
      ],
      "execution_count": null,
      "outputs": []
    },
    {
      "cell_type": "code",
      "metadata": {
        "id": "SZKEsoO7N39a",
        "colab": {
          "base_uri": "https://localhost:8080/"
        },
        "outputId": "09c2d944-cc92-4660-e9a2-cffdf1daddac"
      },
      "source": [
        "print(l)"
      ],
      "execution_count": null,
      "outputs": [
        {
          "output_type": "stream",
          "name": "stdout",
          "text": [
            "[10, 20, 30, 40]\n"
          ]
        }
      ]
    },
    {
      "cell_type": "markdown",
      "metadata": {
        "id": "e2iKtrgnN39c"
      },
      "source": [
        "You can access individual elements of the list using indexing with brackets\n",
        "- We count elements starting from **zero**\n",
        "- **not** one"
      ]
    },
    {
      "cell_type": "code",
      "source": [
        "l[2]"
      ],
      "metadata": {
        "colab": {
          "base_uri": "https://localhost:8080/"
        },
        "id": "BRo9AuPoh-M0",
        "outputId": "74e521b8-ae5a-41b9-8c02-edefd9147b6a"
      },
      "execution_count": null,
      "outputs": [
        {
          "output_type": "execute_result",
          "data": {
            "text/plain": [
              "30"
            ]
          },
          "metadata": {},
          "execution_count": 52
        }
      ]
    },
    {
      "cell_type": "code",
      "metadata": {
        "id": "vA-0TonRN39d",
        "colab": {
          "base_uri": "https://localhost:8080/"
        },
        "outputId": "d857b59c-6df6-4c89-ffc4-3f428736a17a"
      },
      "source": [
        "print(l[0])"
      ],
      "execution_count": null,
      "outputs": [
        {
          "output_type": "stream",
          "name": "stdout",
          "text": [
            "10\n"
          ]
        }
      ]
    },
    {
      "cell_type": "code",
      "metadata": {
        "id": "fx6kWfWdN39h",
        "colab": {
          "base_uri": "https://localhost:8080/"
        },
        "outputId": "d2905ea8-c102-4511-bbe3-17fde9779bf1"
      },
      "source": [
        "print(l[1])"
      ],
      "execution_count": null,
      "outputs": [
        {
          "output_type": "stream",
          "name": "stdout",
          "text": [
            "20\n"
          ]
        }
      ]
    },
    {
      "cell_type": "markdown",
      "metadata": {
        "id": "FvclarcbN39i"
      },
      "source": [
        "This is a big, common source of confusion. Keep this in mind. Always double, triple check your indices for off-by-one errors."
      ]
    },
    {
      "cell_type": "markdown",
      "metadata": {
        "id": "8lqDIdwJN39j"
      },
      "source": [
        "Let's lear a new function, one that is relevant for lists\n",
        "- To learn the length of a list, we use `len()`"
      ]
    },
    {
      "cell_type": "code",
      "metadata": {
        "id": "n0sKgpxDN39k",
        "colab": {
          "base_uri": "https://localhost:8080/"
        },
        "outputId": "e1c3f74e-d98c-4d7b-b86d-fc2fcd1f6e42"
      },
      "source": [
        "len(l)"
      ],
      "execution_count": null,
      "outputs": [
        {
          "output_type": "execute_result",
          "data": {
            "text/plain": [
              "4"
            ]
          },
          "metadata": {},
          "execution_count": 54
        }
      ]
    },
    {
      "cell_type": "markdown",
      "metadata": {
        "id": "K7XCqY1XN39m"
      },
      "source": [
        "Could've printed this, too, with `print(len(l))`\n",
        "\n",
        "Let us print the last element of the list. The number of elements is `len(l)`, but since we start counting at zero, we subtract one to obtain the last element (what happens if we don't? try if you want):"
      ]
    },
    {
      "cell_type": "code",
      "metadata": {
        "id": "FuysGIp0uZ5C",
        "colab": {
          "base_uri": "https://localhost:8080/"
        },
        "outputId": "314f175b-ab88-4df7-9ad3-8da0c2e764d9"
      },
      "source": [
        "print(l[len(l)-1])"
      ],
      "execution_count": null,
      "outputs": [
        {
          "output_type": "stream",
          "name": "stdout",
          "text": [
            "40\n"
          ]
        }
      ]
    },
    {
      "cell_type": "code",
      "source": [
        "l[-1]"
      ],
      "metadata": {
        "colab": {
          "base_uri": "https://localhost:8080/"
        },
        "id": "lV4BMOQ3i8GM",
        "outputId": "1e16ad5f-469d-4e76-bf18-212e0cb951d8"
      },
      "execution_count": null,
      "outputs": [
        {
          "output_type": "execute_result",
          "data": {
            "text/plain": [
              "40"
            ]
          },
          "metadata": {},
          "execution_count": 56
        }
      ]
    },
    {
      "cell_type": "markdown",
      "metadata": {
        "id": "P4MOX8FbN39m"
      },
      "source": [
        "We can change individual elements of a list using the (confusing) equals sign"
      ]
    },
    {
      "cell_type": "code",
      "metadata": {
        "id": "sbneDbc7N39n"
      },
      "source": [
        "l[1] = 1000"
      ],
      "execution_count": null,
      "outputs": []
    },
    {
      "cell_type": "code",
      "metadata": {
        "id": "G1GxLLeEN39o",
        "colab": {
          "base_uri": "https://localhost:8080/"
        },
        "outputId": "5b7055a7-8371-4ab0-ca0a-036239ba196a"
      },
      "source": [
        "print(l)"
      ],
      "execution_count": null,
      "outputs": [
        {
          "output_type": "stream",
          "name": "stdout",
          "text": [
            "[10, 1000, 30, 40]\n"
          ]
        }
      ]
    },
    {
      "cell_type": "markdown",
      "metadata": {
        "id": "iBQgMkjzJqn1"
      },
      "source": [
        "The second element is now changed."
      ]
    },
    {
      "cell_type": "markdown",
      "metadata": {
        "id": "z3sOL91VN39q"
      },
      "source": [
        "Can access the last element in different ways:"
      ]
    },
    {
      "cell_type": "code",
      "metadata": {
        "id": "XmQcYqlVN39q",
        "colab": {
          "base_uri": "https://localhost:8080/"
        },
        "outputId": "a3e00d7c-bb4c-498f-c654-bab4078dae86"
      },
      "source": [
        "print(l[3])"
      ],
      "execution_count": null,
      "outputs": [
        {
          "output_type": "stream",
          "name": "stdout",
          "text": [
            "40\n"
          ]
        }
      ]
    },
    {
      "cell_type": "markdown",
      "source": [
        "This one is maybe a bit of a surprise:"
      ],
      "metadata": {
        "id": "f8uSN_-GO-eq"
      }
    },
    {
      "cell_type": "code",
      "metadata": {
        "id": "3KpOvmmfN39s",
        "colab": {
          "base_uri": "https://localhost:8080/"
        },
        "outputId": "de202dcb-813b-432e-a3ce-399fe930c949"
      },
      "source": [
        "print(l[-1])"
      ],
      "execution_count": null,
      "outputs": [
        {
          "output_type": "stream",
          "name": "stdout",
          "text": [
            "40\n"
          ]
        }
      ]
    },
    {
      "cell_type": "code",
      "metadata": {
        "id": "PFzkq7wTN39t"
      },
      "source": [
        "length_of_l = len(l)"
      ],
      "execution_count": null,
      "outputs": []
    },
    {
      "cell_type": "code",
      "metadata": {
        "id": "WqYOek6QN390",
        "colab": {
          "base_uri": "https://localhost:8080/"
        },
        "outputId": "16604d18-c8fa-4291-b5da-5eca62fa7294"
      },
      "source": [
        "print(l[length_of_l - 1])"
      ],
      "execution_count": null,
      "outputs": [
        {
          "output_type": "stream",
          "name": "stdout",
          "text": [
            "40\n"
          ]
        }
      ]
    },
    {
      "cell_type": "markdown",
      "metadata": {
        "id": "13uHNjjoN391"
      },
      "source": [
        "Now that we know two functions, print and len, let's say this again:\n",
        "- Remember, don't use existing names as variable names"
      ]
    },
    {
      "cell_type": "markdown",
      "metadata": {
        "id": "OtzBeMW1N392"
      },
      "source": [
        "# Conditionals"
      ]
    },
    {
      "cell_type": "markdown",
      "metadata": {
        "id": "fpNgG4OmN392"
      },
      "source": [
        "- One of the core building blocks of programming, exists in all(?) languages\n",
        "- Do something only if a condition holds\n",
        "- And maybe do something else if the condition doesn't hold"
      ]
    },
    {
      "cell_type": "markdown",
      "metadata": {
        "id": "dA2WVvdwN393"
      },
      "source": [
        "Syntax (how it is done in the Python language):"
      ]
    },
    {
      "cell_type": "code",
      "metadata": {
        "id": "LQqOPLDoN393"
      },
      "source": [
        "# let's use a variable\n",
        "a = 10"
      ],
      "execution_count": null,
      "outputs": []
    },
    {
      "cell_type": "code",
      "metadata": {
        "id": "eNj2cDRCN395",
        "colab": {
          "base_uri": "https://localhost:8080/"
        },
        "outputId": "44e9d199-b258-4ab5-ec0d-062d096589f5"
      },
      "source": [
        "if a > 10:\n",
        "    print(\"Your number is bigger than 10\")\n",
        "else:\n",
        "    print(\"Your number is not bigger than 10\")"
      ],
      "execution_count": null,
      "outputs": [
        {
          "output_type": "stream",
          "name": "stdout",
          "text": [
            "Your number is bigger than 10\n"
          ]
        }
      ]
    },
    {
      "cell_type": "markdown",
      "metadata": {
        "id": "n67axvfWN398"
      },
      "source": [
        "- **Indentation (space) is important in Python!**\n",
        "- We first write \"`if`\", and follow with the logical condition we want to check\n",
        "  - In this case, `a > 10`\n",
        "  - No need for parentheses\n",
        "- We then put a colon `:`\n",
        "- On the next line, we put some space, and follow with the command we want executed if our condition holds\n",
        "- Then put an `else:`, **without preceding space**\n",
        "- And on the next line, put the command you want, once again after some space\n",
        "\n",
        "Notes:\n",
        "\n",
        "- We can use tabs instead of spaces\n",
        "- Need to be consistent in our choice, though; if you put 4 spaces, then you have to continue using 4 spaces; can't switch between different numbers of spaces/tabs\n",
        "- You can execute multiple commands if your condition holds by writing them one after the other, e.g.:"
      ]
    },
    {
      "cell_type": "code",
      "source": [
        "a=10"
      ],
      "metadata": {
        "id": "lBufMacHE1V2"
      },
      "execution_count": null,
      "outputs": []
    },
    {
      "cell_type": "code",
      "metadata": {
        "id": "5tbhutmFNHCY",
        "colab": {
          "base_uri": "https://localhost:8080/",
          "height": 236
        },
        "outputId": "444e1cbd-1173-4534-bf6a-fd99b41a142a"
      },
      "source": [
        "if a > 10:\n",
        "    print(\"Your number is bigger than 10\")\n",
        "    aprint(\"isn't that funny?\")\n",
        "else:\n",
        "    print(\"Your number is not bigger than 10\")\n",
        "    print(\"and it's not funny\")"
      ],
      "execution_count": null,
      "outputs": [
        {
          "output_type": "error",
          "ename": "NameError",
          "evalue": "ignored",
          "traceback": [
            "\u001b[0;31m---------------------------------------------------------------------------\u001b[0m",
            "\u001b[0;31mNameError\u001b[0m                                 Traceback (most recent call last)",
            "\u001b[0;32m<ipython-input-1-247eacbeb130>\u001b[0m in \u001b[0;36m<module>\u001b[0;34m\u001b[0m\n\u001b[0;32m----> 1\u001b[0;31m \u001b[0;32mif\u001b[0m \u001b[0ma\u001b[0m \u001b[0;34m>\u001b[0m \u001b[0;36m10\u001b[0m\u001b[0;34m:\u001b[0m\u001b[0;34m\u001b[0m\u001b[0;34m\u001b[0m\u001b[0m\n\u001b[0m\u001b[1;32m      2\u001b[0m     \u001b[0mprint\u001b[0m\u001b[0;34m(\u001b[0m\u001b[0;34m\"Your number is bigger than 10\"\u001b[0m\u001b[0;34m)\u001b[0m\u001b[0;34m\u001b[0m\u001b[0;34m\u001b[0m\u001b[0m\n\u001b[1;32m      3\u001b[0m     \u001b[0mprint\u001b[0m\u001b[0;34m(\u001b[0m\u001b[0;34m\"isn't that funny?\"\u001b[0m\u001b[0;34m)\u001b[0m\u001b[0;34m\u001b[0m\u001b[0;34m\u001b[0m\u001b[0m\n\u001b[1;32m      4\u001b[0m \u001b[0;32melse\u001b[0m\u001b[0;34m:\u001b[0m\u001b[0;34m\u001b[0m\u001b[0;34m\u001b[0m\u001b[0m\n\u001b[1;32m      5\u001b[0m     \u001b[0mprint\u001b[0m\u001b[0;34m(\u001b[0m\u001b[0;34m\"Your number is not bigger than 10\"\u001b[0m\u001b[0;34m)\u001b[0m\u001b[0;34m\u001b[0m\u001b[0;34m\u001b[0m\u001b[0m\n",
            "\u001b[0;31mNameError\u001b[0m: name 'a' is not defined"
          ]
        }
      ]
    },
    {
      "cell_type": "markdown",
      "metadata": {
        "id": "Emz_y5cyN398"
      },
      "source": [
        "For the condition in an `if` statement, you can use various things that can be interpreted as \"logical\" values by Python"
      ]
    },
    {
      "cell_type": "markdown",
      "metadata": {
        "id": "NX2FZsAlN399"
      },
      "source": [
        "Let's see what \"a>10\" is really like:"
      ]
    },
    {
      "cell_type": "code",
      "metadata": {
        "id": "p6aULQ7sN399",
        "colab": {
          "base_uri": "https://localhost:8080/"
        },
        "outputId": "12b35d18-9e41-44cd-ea2b-71c468b2e2c6"
      },
      "source": [
        "print(a>10)"
      ],
      "execution_count": null,
      "outputs": [
        {
          "output_type": "stream",
          "name": "stdout",
          "text": [
            "False\n"
          ]
        }
      ]
    },
    {
      "cell_type": "markdown",
      "metadata": {
        "id": "m1Rafn8tNRzN"
      },
      "source": [
        "This is not a string, i.e., it prints as \"`False`\", but it is not the string \"False\", it is a logical value."
      ]
    },
    {
      "cell_type": "code",
      "metadata": {
        "id": "nw5v4iuaN3-C"
      },
      "source": [
        "x = a < 100"
      ],
      "execution_count": null,
      "outputs": []
    },
    {
      "cell_type": "code",
      "metadata": {
        "id": "CuLXgVowNcrk",
        "colab": {
          "base_uri": "https://localhost:8080/"
        },
        "outputId": "d74f394e-86fc-415a-dbe6-6d0a7fb35fd1"
      },
      "source": [
        "print(x)"
      ],
      "execution_count": null,
      "outputs": [
        {
          "output_type": "stream",
          "name": "stdout",
          "text": [
            "True\n"
          ]
        }
      ]
    },
    {
      "cell_type": "markdown",
      "metadata": {
        "id": "M7Yt77tiNkc5"
      },
      "source": [
        "You can set variables to logical values directly, you don't have to test for a specific condition"
      ]
    },
    {
      "cell_type": "code",
      "metadata": {
        "id": "YAxhK7rhzRvt"
      },
      "source": [
        "x = True\n",
        "# note that we did not use any quotes! this is not the string \"True\", it is the logical value True"
      ],
      "execution_count": null,
      "outputs": []
    },
    {
      "cell_type": "code",
      "metadata": {
        "id": "uK7FYXlmN3-E",
        "colab": {
          "base_uri": "https://localhost:8080/"
        },
        "outputId": "75d71dbb-e134-43d2-b1a6-932bb4acd038"
      },
      "source": [
        "print(x)"
      ],
      "execution_count": null,
      "outputs": [
        {
          "output_type": "stream",
          "name": "stdout",
          "text": [
            "True\n"
          ]
        }
      ]
    },
    {
      "cell_type": "markdown",
      "metadata": {
        "id": "uplo_vdgPcdU"
      },
      "source": [
        "Just as we can add or subtract numbers, we can perform logical operations on logical variables:"
      ]
    },
    {
      "cell_type": "code",
      "source": [],
      "metadata": {
        "colab": {
          "base_uri": "https://localhost:8080/"
        },
        "id": "wDS2GVq5maaZ",
        "outputId": "3352e55b-4e52-4e19-a295-274284620ad7"
      },
      "execution_count": null,
      "outputs": [
        {
          "output_type": "execute_result",
          "data": {
            "text/plain": [
              "False"
            ]
          },
          "metadata": {},
          "execution_count": 74
        }
      ]
    },
    {
      "cell_type": "code",
      "metadata": {
        "id": "3gSRJSR5y50t",
        "colab": {
          "base_uri": "https://localhost:8080/"
        },
        "outputId": "c63256f1-2c56-4a07-ea35-4d2ede01d409"
      },
      "source": [
        "print (x or (not x))"
      ],
      "execution_count": null,
      "outputs": [
        {
          "output_type": "stream",
          "name": "stdout",
          "text": [
            "True\n"
          ]
        }
      ]
    },
    {
      "cell_type": "markdown",
      "metadata": {
        "id": "iQIovs7ZN3-G"
      },
      "source": [
        "- We tested for an inequality. How about an equality?\n",
        "- Can we say \"`if x = 10`\"?\n",
        "- No, we saw that \"=\" has a different meaning; it is used for assignment\n",
        "- For comparisons/equality tests, we use a pair of equals signs `==` (no space between)\n",
        "  - A common mistake: using `=` when you intend to use `==`"
      ]
    },
    {
      "cell_type": "code",
      "metadata": {
        "id": "hKCZ-NLGN3-H",
        "colab": {
          "base_uri": "https://localhost:8080/"
        },
        "outputId": "93ae3513-294c-463f-9cf0-1eeffc9e07e0"
      },
      "source": [
        "a = 10\n",
        "\n",
        "if a == 10:\n",
        "    print(\"your variable is ten\")"
      ],
      "execution_count": null,
      "outputs": [
        {
          "output_type": "stream",
          "name": "stdout",
          "text": [
            "your variable is ten\n"
          ]
        }
      ]
    },
    {
      "cell_type": "code",
      "metadata": {
        "id": "YErMmipEN3-J",
        "colab": {
          "base_uri": "https://localhost:8080/"
        },
        "outputId": "108eb084-b37f-453d-a875-a72344abf292"
      },
      "source": [
        "a == 10"
      ],
      "execution_count": null,
      "outputs": [
        {
          "output_type": "execute_result",
          "data": {
            "text/plain": [
              "True"
            ]
          },
          "metadata": {},
          "execution_count": 77
        }
      ]
    },
    {
      "cell_type": "markdown",
      "source": [
        "- We can nest if statements (an if inside an if)\n",
        "- To do so, we need to keep track of indendation levels\n"
      ],
      "metadata": {
        "id": "yZomp3oc_nqp"
      }
    },
    {
      "cell_type": "markdown",
      "source": [
        "Let's fill in the messages here"
      ],
      "metadata": {
        "id": "tsLfKLkM_r0V"
      }
    },
    {
      "cell_type": "code",
      "source": [
        "x = 10\n",
        "if x < 10:\n",
        "    if x > 5:\n",
        "        print(\"x is greater than 5 but less than 10\")\n",
        "    else:\n",
        "        print(\"\")\n",
        "else:\n",
        "    if x < 20:\n",
        "        print(\"\")\n",
        "    else:\n",
        "        print(\"\")"
      ],
      "metadata": {
        "id": "VY4K6vje_tNu",
        "colab": {
          "base_uri": "https://localhost:8080/"
        },
        "outputId": "50b5ee4a-9cfd-4d72-dfa7-3259a386e0ad"
      },
      "execution_count": null,
      "outputs": [
        {
          "output_type": "stream",
          "name": "stdout",
          "text": [
            "\n"
          ]
        }
      ]
    },
    {
      "cell_type": "markdown",
      "source": [
        "Nesting like this is **not** recommended--makes code hard to read!"
      ],
      "metadata": {
        "id": "MejkAi5h_zay"
      }
    },
    {
      "cell_type": "markdown",
      "source": [
        "The \"**elif**\": Helps reduce the number of levels of indentation. Most easily shown with an example:"
      ],
      "metadata": {
        "id": "tg0UXzJJ_0xu"
      }
    },
    {
      "cell_type": "code",
      "source": [
        "x = 6\n",
        "\n",
        "if x > 10:\n",
        "  print(\"x is greater than 10\")\n",
        "elif x > 5:\n",
        "  print(\"x is greater than 5, and less than or equal to 10\")\n",
        "elif x > 0:\n",
        "  print(\"x is greater than 0, and less than or equal to 5\")\n",
        "else:\n",
        "  print(\"x is less than or equal to 0\")"
      ],
      "metadata": {
        "id": "mO9g0TMS_tHO",
        "colab": {
          "base_uri": "https://localhost:8080/"
        },
        "outputId": "65ae43f4-f081-47e1-b5fe-cb73c65b6fd7"
      },
      "execution_count": null,
      "outputs": [
        {
          "output_type": "stream",
          "name": "stdout",
          "text": [
            "x is greater than 5, and less than or equal to 10\n"
          ]
        }
      ]
    },
    {
      "cell_type": "markdown",
      "metadata": {
        "id": "8I_wD5jjB5Rx"
      },
      "source": [
        "# Exercise for the adventurous\n",
        "\n",
        "Python has an `id` command that returns a unique identifier for each object. Let's try a few things:"
      ]
    },
    {
      "cell_type": "code",
      "metadata": {
        "id": "3YO_Kv7RCUOv"
      },
      "source": [
        "a=1"
      ],
      "execution_count": null,
      "outputs": []
    },
    {
      "cell_type": "code",
      "metadata": {
        "id": "-PnGgk6ZCYql"
      },
      "source": [
        "b=2"
      ],
      "execution_count": null,
      "outputs": []
    },
    {
      "cell_type": "code",
      "metadata": {
        "id": "PBNu4c_PCTVT",
        "colab": {
          "base_uri": "https://localhost:8080/"
        },
        "outputId": "e8ab59c4-cec1-44b2-9a33-ebf585f50e90"
      },
      "source": [
        "id(a)"
      ],
      "execution_count": null,
      "outputs": [
        {
          "output_type": "execute_result",
          "data": {
            "text/plain": [
              "9793088"
            ]
          },
          "metadata": {},
          "execution_count": 72
        }
      ]
    },
    {
      "cell_type": "code",
      "metadata": {
        "id": "4Rrf7SfqCVnI",
        "colab": {
          "base_uri": "https://localhost:8080/"
        },
        "outputId": "b785b763-7d1b-4f12-aee3-f56d86d724f4"
      },
      "source": [
        "id(b)"
      ],
      "execution_count": null,
      "outputs": [
        {
          "output_type": "execute_result",
          "data": {
            "text/plain": [
              "9793120"
            ]
          },
          "metadata": {},
          "execution_count": 73
        }
      ]
    },
    {
      "cell_type": "markdown",
      "metadata": {
        "id": "WfvSoNHICc-d"
      },
      "source": [
        "The ids are different; these are different variables, each having its own id. Now look at this:"
      ]
    },
    {
      "cell_type": "code",
      "metadata": {
        "id": "ovvUM-iICgDl"
      },
      "source": [
        "c=1"
      ],
      "execution_count": null,
      "outputs": []
    },
    {
      "cell_type": "code",
      "metadata": {
        "id": "Z42TufMCCiDl",
        "colab": {
          "base_uri": "https://localhost:8080/"
        },
        "outputId": "16ef8591-e372-4150-d1ac-e87dd01ed164"
      },
      "source": [
        "id(c)"
      ],
      "execution_count": null,
      "outputs": [
        {
          "output_type": "execute_result",
          "data": {
            "text/plain": [
              "9793088"
            ]
          },
          "metadata": {},
          "execution_count": 75
        }
      ]
    },
    {
      "cell_type": "code",
      "metadata": {
        "id": "rb-UechRCitf",
        "colab": {
          "base_uri": "https://localhost:8080/"
        },
        "outputId": "431ff9b2-200c-41c2-c7cf-9177f043aa18"
      },
      "source": [
        "id(a) == id(c)"
      ],
      "execution_count": null,
      "outputs": [
        {
          "output_type": "execute_result",
          "data": {
            "text/plain": [
              "True"
            ]
          },
          "metadata": {},
          "execution_count": 76
        }
      ]
    },
    {
      "cell_type": "code",
      "metadata": {
        "id": "aSP5tHlICnPp",
        "colab": {
          "base_uri": "https://localhost:8080/"
        },
        "outputId": "69d404fe-8645-44d2-c76d-baa199fdd95e"
      },
      "source": [
        "a is c"
      ],
      "execution_count": null,
      "outputs": [
        {
          "output_type": "execute_result",
          "data": {
            "text/plain": [
              "True"
            ]
          },
          "metadata": {},
          "execution_count": 77
        }
      ]
    },
    {
      "cell_type": "markdown",
      "metadata": {
        "id": "UCdfQs1VCoDj"
      },
      "source": [
        "Strange! These were supposed to be different variables, but they get the same id. Could it be that variables with the same value get the same id? Now look at this:"
      ]
    },
    {
      "cell_type": "code",
      "metadata": {
        "id": "9Qrh3nmjC3mm"
      },
      "source": [
        "x = 100000\n",
        "y = 100000"
      ],
      "execution_count": null,
      "outputs": []
    },
    {
      "cell_type": "code",
      "metadata": {
        "id": "dqkttIRfC6Vs",
        "colab": {
          "base_uri": "https://localhost:8080/"
        },
        "outputId": "e6f24d50-ded4-4810-a2cb-41d9d5fe5fcb"
      },
      "source": [
        "id(x)"
      ],
      "execution_count": null,
      "outputs": [
        {
          "output_type": "execute_result",
          "data": {
            "text/plain": [
              "140293467408592"
            ]
          },
          "metadata": {},
          "execution_count": 79
        }
      ]
    },
    {
      "cell_type": "code",
      "metadata": {
        "id": "fk4Fjqo6C7K5",
        "colab": {
          "base_uri": "https://localhost:8080/"
        },
        "outputId": "79c0545b-e724-4342-ad18-38d8418720a3"
      },
      "source": [
        "id(y)"
      ],
      "execution_count": null,
      "outputs": [
        {
          "output_type": "execute_result",
          "data": {
            "text/plain": [
              "140293467406512"
            ]
          },
          "metadata": {},
          "execution_count": 80
        }
      ]
    },
    {
      "cell_type": "code",
      "metadata": {
        "id": "3h4teOnEC8_W",
        "colab": {
          "base_uri": "https://localhost:8080/"
        },
        "outputId": "f3401337-b81a-4506-9130-0eb27ba7ce42"
      },
      "source": [
        "x is y"
      ],
      "execution_count": null,
      "outputs": [
        {
          "output_type": "execute_result",
          "data": {
            "text/plain": [
              "False"
            ]
          },
          "metadata": {},
          "execution_count": 81
        }
      ]
    },
    {
      "cell_type": "markdown",
      "metadata": {
        "id": "b5jwNSILC_UI"
      },
      "source": [
        "Even stranger! These guys actually get different ids."
      ]
    },
    {
      "cell_type": "markdown",
      "metadata": {
        "id": "kqXVzcnHDBSX"
      },
      "source": [
        "Your task:\n",
        "- Figure out which numbers result in two separate variables getting the same id\n",
        "- What this means; i.e., what is happening under the hood\n",
        "\n",
        "Googling is allowed!"
      ]
    },
    {
      "cell_type": "code",
      "metadata": {
        "id": "yan5qCggDRj9"
      },
      "source": [],
      "execution_count": null,
      "outputs": []
    }
  ]
}